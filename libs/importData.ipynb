{
 "cells": [
  {
   "cell_type": "code",
   "execution_count": null,
   "metadata": {},
   "outputs": [],
   "source": [
    "from requests import get\n",
    "from json import dumps \n",
    "\n",
    "\n",
    "def getStockData(stockCode = [\"PETR4\"]):\n",
    "    urlBase = f\"https://brapi.dev/api/quote/{'%'.join(stockCode)}?range=12mo&interval=1d&fundamental=true\"\n",
    "    urlResponse = get(urlBase).json()[\"results\"]\n",
    "    return urlResponse\n",
    "\n",
    "def getStockValue(stockCode = [\"PETR4\"]):\n",
    "    tempValue = getStockData(stockCode)\n",
    "    newValue = []\n",
    "    for stock in tempValue:\n",
    "        stockSymbol = stock[\"symbol\"]\n",
    "        stockName = stock[\"longName\"]\n",
    "        stockValues = stock[\"historicalDataPrice\"]\n",
    "        newValue.append(\n",
    "            {\n",
    "                \"name\": stockName,\n",
    "                \"symbol\": stockSymbol,\n",
    "                \"values\": stockValues\n",
    "            }\n",
    "            )\n",
    "\n",
    "    return newValue\n",
    "\n",
    "def getSpecificValue(stock = [\"PETR4\"], specific = \"close\"):\n",
    "    tempValue = getStockValue(stock)\n",
    "    newValue = []\n",
    "    for stock in tempValue:\n",
    "        specificValues = []\n",
    "        for value in stock[\"values\"]:\n",
    "            specificValues.append(value[specific])\n",
    "\n",
    "        newValue.append({\n",
    "            \"name\": stock[\"name\"],\n",
    "            \"symbol\": stock[\"symbol\"],\n",
    "            specific: specificValues\n",
    "            })\n",
    "\n",
    "    return newValue\n",
    "\n"
   ]
  }
 ],
 "metadata": {
  "language_info": {
   "name": "python"
  },
  "orig_nbformat": 4
 },
 "nbformat": 4,
 "nbformat_minor": 2
}
